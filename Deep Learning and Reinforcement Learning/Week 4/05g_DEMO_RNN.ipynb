{
  "cells": [
    {
      "cell_type": "markdown",
      "metadata": {
        "id": "view-in-github",
        "colab_type": "text"
      },
      "source": [
        "<a href=\"https://colab.research.google.com/github/mohameddhameem/IBM-Machine-Learning/blob/master/Deep%20Learning%20and%20Reinforcement%20Learning/Week%204/05g_DEMO_RNN.ipynb\" target=\"_parent\"><img src=\"https://colab.research.google.com/assets/colab-badge.svg\" alt=\"Open In Colab\"/></a>"
      ]
    },
    {
      "cell_type": "markdown",
      "metadata": {
        "run_control": {
          "marked": true
        },
        "id": "8YXWT2XJ8OSA"
      },
      "source": [
        "# Machine Learning Foundation\n",
        "\n",
        "## Course 5, Part g: RNN DEMO"
      ]
    },
    {
      "cell_type": "markdown",
      "metadata": {
        "id": "V_qWJp-u8OSD"
      },
      "source": [
        "## Using RNNs to classify sentiment on IMDB data\n",
        "For this exercise, we will train a \"vanilla\" RNN to predict the sentiment on IMDB reviews.  Our data consists of 25000 training sequences and 25000 test sequences.  The outcome is binary (positive/negative) and both outcomes are equally represented in both the training and the test set.\n",
        "\n",
        "Keras provides a convenient interface to load the data and immediately encode the words into integers (based on the most common words).  This will save us a lot of the drudgery that is usually involved when working with raw text.\n",
        "\n",
        "We will walk through the preparation of the data and the building of an RNN model.  Then it will be your turn to build your own models (and prepare the data how you see fit)."
      ]
    },
    {
      "cell_type": "code",
      "execution_count": 2,
      "metadata": {
        "id": "GZYEYttZ8OSE"
      },
      "outputs": [],
      "source": [
        "from tensorflow import keras\n",
        "from tensorflow.keras.preprocessing import sequence\n",
        "from tensorflow.keras.models import Sequential\n",
        "from tensorflow.keras.layers import Dense, Embedding\n",
        "from tensorflow.keras.layers import SimpleRNN\n",
        "from tensorflow.keras.datasets import imdb\n",
        "from tensorflow.keras import initializers"
      ]
    },
    {
      "cell_type": "code",
      "execution_count": 3,
      "metadata": {
        "id": "Z7VKmsvZ8OSG"
      },
      "outputs": [],
      "source": [
        "max_features = 20000  # This is used in loading the data, picks the most common (max_features) words\n",
        "maxlen = 30  # maximum length of a sequence - truncate after this\n",
        "batch_size = 32"
      ]
    },
    {
      "cell_type": "code",
      "execution_count": 4,
      "metadata": {
        "colab": {
          "base_uri": "https://localhost:8080/"
        },
        "id": "V1VavKuX8OSH",
        "outputId": "2bf9c23f-2391-4350-f175-5c46890590e8"
      },
      "outputs": [
        {
          "output_type": "stream",
          "name": "stdout",
          "text": [
            "Downloading data from https://storage.googleapis.com/tensorflow/tf-keras-datasets/imdb.npz\n",
            "17465344/17464789 [==============================] - 0s 0us/step\n",
            "17473536/17464789 [==============================] - 0s 0us/step\n",
            "25000 train sequences\n",
            "25000 test sequences\n"
          ]
        }
      ],
      "source": [
        "## Load in the data.  The function automatically tokenizes the text into distinct integers\n",
        "(x_train, y_train), (x_test, y_test) = imdb.load_data(num_words=max_features)\n",
        "print(len(x_train), 'train sequences')\n",
        "print(len(x_test), 'test sequences')"
      ]
    },
    {
      "cell_type": "code",
      "execution_count": 5,
      "metadata": {
        "colab": {
          "base_uri": "https://localhost:8080/"
        },
        "id": "vYAAzJh58OSI",
        "outputId": "fc7e330f-7c79-420b-d9d1-32249a030ebf"
      },
      "outputs": [
        {
          "output_type": "stream",
          "name": "stdout",
          "text": [
            "x_train shape: (25000, 30)\n",
            "x_test shape: (25000, 30)\n"
          ]
        }
      ],
      "source": [
        "# This pads (or truncates) the sequences so that they are of the maximum length\n",
        "x_train = sequence.pad_sequences(x_train, maxlen=maxlen)\n",
        "x_test = sequence.pad_sequences(x_test, maxlen=maxlen)\n",
        "print('x_train shape:', x_train.shape)\n",
        "print('x_test shape:', x_test.shape)"
      ]
    },
    {
      "cell_type": "code",
      "execution_count": 6,
      "metadata": {
        "colab": {
          "base_uri": "https://localhost:8080/"
        },
        "id": "6OGl8MRk8OSJ",
        "outputId": "078ea5fe-65ea-498b-9483-7bd5e81ad464"
      },
      "outputs": [
        {
          "output_type": "execute_result",
          "data": {
            "text/plain": [
              "array([  219,   141,    35,   221,   956,    54,    13,    16,    11,\n",
              "        2714,    61,   322,   423,    12,    38,    76,    59,  1803,\n",
              "          72,     8, 10508,    23,     5,   967,    12,    38,    85,\n",
              "          62,   358,    99], dtype=int32)"
            ]
          },
          "metadata": {},
          "execution_count": 6
        }
      ],
      "source": [
        "x_train[123,:]  #Here's what an example sequence looks like"
      ]
    },
    {
      "cell_type": "markdown",
      "metadata": {
        "id": "1j1_NYDm8OSJ"
      },
      "source": [
        "## Keras layers for (Vanilla) RNNs\n",
        "\n",
        "In this exercise, we will not use pre-trained word vectors.  Rather we will learn an embedding as part of the Neural Network.  This is represented by the Embedding Layer below.\n",
        "\n",
        "### Embedding Layer\n",
        "`keras.layers.embeddings.Embedding(input_dim, output_dim, embeddings_initializer='uniform', embeddings_regularizer=None, activity_regularizer=None, embeddings_constraint=None, mask_zero=False, input_length=None)`\n",
        "\n",
        "- This layer maps each integer into a distinct (dense) word vector of length `output_dim`.\n",
        "- Can think of this as learning a word vector embedding \"on the fly\" rather than using an existing mapping (like GloVe)\n",
        "- The `input_dim` should be the size of the vocabulary.\n",
        "- The `input_length` specifies the length of the sequences that the network expects.\n",
        "\n",
        "### SimpleRNN Layer\n",
        "`keras.layers.recurrent.SimpleRNN(units, activation='tanh', use_bias=True, kernel_initializer='glorot_uniform', recurrent_initializer='orthogonal', bias_initializer='zeros', kernel_regularizer=None, recurrent_regularizer=None, bias_regularizer=None, activity_regularizer=None, kernel_constraint=None, recurrent_constraint=None, bias_constraint=None, dropout=0.0, recurrent_dropout=0.0)`\n",
        "\n",
        "- This is the basic RNN, where the output is also fed back as the \"hidden state\" to the next iteration.\n",
        "- The parameter `units` gives the dimensionality of the output (and therefore the hidden state).  Note that typically there will be another layer after the RNN mapping the (RNN) output to the network output.  So we should think of this value as the desired dimensionality of the hidden state and not necessarily the desired output of the network.\n",
        "- Recall that there are two sets of weights, one for the \"recurrent\" phase and the other for the \"kernel\" phase.  These can be configured separately in terms of their initialization, regularization, etc.\n",
        "\n",
        "\n",
        "\n",
        "\n"
      ]
    },
    {
      "cell_type": "code",
      "execution_count": 7,
      "metadata": {
        "id": "kJloNjsR8OSK"
      },
      "outputs": [],
      "source": [
        "## Let's build a RNN\n",
        "\n",
        "rnn_hidden_dim = 5\n",
        "word_embedding_dim = 50\n",
        "model_rnn = Sequential()\n",
        "model_rnn.add(Embedding(max_features, word_embedding_dim))  #This layer takes each integer in the sequence and embeds it in a 50-dimensional vector\n",
        "model_rnn.add(SimpleRNN(rnn_hidden_dim,\n",
        "                    kernel_initializer=initializers.RandomNormal(stddev=0.001),\n",
        "                    recurrent_initializer=initializers.Identity(gain=1.0),\n",
        "                    activation='relu',\n",
        "                    input_shape=x_train.shape[1:]))\n",
        "\n",
        "model_rnn.add(Dense(1, activation='sigmoid'))"
      ]
    },
    {
      "cell_type": "code",
      "execution_count": 8,
      "metadata": {
        "colab": {
          "base_uri": "https://localhost:8080/"
        },
        "id": "e35WYgfH8OSL",
        "outputId": "affea8b4-ed04-4d13-86a2-ae5326d2ba59"
      },
      "outputs": [
        {
          "output_type": "stream",
          "name": "stdout",
          "text": [
            "Model: \"sequential\"\n",
            "_________________________________________________________________\n",
            " Layer (type)                Output Shape              Param #   \n",
            "=================================================================\n",
            " embedding (Embedding)       (None, None, 50)          1000000   \n",
            "                                                                 \n",
            " simple_rnn (SimpleRNN)      (None, 5)                 280       \n",
            "                                                                 \n",
            " dense (Dense)               (None, 1)                 6         \n",
            "                                                                 \n",
            "=================================================================\n",
            "Total params: 1,000,286\n",
            "Trainable params: 1,000,286\n",
            "Non-trainable params: 0\n",
            "_________________________________________________________________\n"
          ]
        }
      ],
      "source": [
        "## Note that most of the parameters come from the embedding layer\n",
        "model_rnn.summary()"
      ]
    },
    {
      "cell_type": "code",
      "execution_count": 9,
      "metadata": {
        "colab": {
          "base_uri": "https://localhost:8080/"
        },
        "id": "6D1iukE78OSM",
        "outputId": "20c8fc40-2e1c-48a5-8558-b3d491c27758"
      },
      "outputs": [
        {
          "output_type": "stream",
          "name": "stderr",
          "text": [
            "/usr/local/lib/python3.7/dist-packages/keras/optimizer_v2/rmsprop.py:130: UserWarning: The `lr` argument is deprecated, use `learning_rate` instead.\n",
            "  super(RMSprop, self).__init__(name, **kwargs)\n"
          ]
        }
      ],
      "source": [
        "rmsprop = keras.optimizers.RMSprop(lr = .0001)\n",
        "\n",
        "model_rnn.compile(loss='binary_crossentropy',\n",
        "              optimizer=rmsprop,\n",
        "              metrics=['accuracy'])"
      ]
    },
    {
      "cell_type": "code",
      "execution_count": 10,
      "metadata": {
        "colab": {
          "base_uri": "https://localhost:8080/"
        },
        "id": "D4szhkfU8OSM",
        "outputId": "c2fff41d-c499-4995-c9ec-38435469668c"
      },
      "outputs": [
        {
          "output_type": "stream",
          "name": "stdout",
          "text": [
            "Epoch 1/10\n",
            "782/782 [==============================] - 30s 33ms/step - loss: 0.6725 - accuracy: 0.5510 - val_loss: 0.6425 - val_accuracy: 0.6228\n",
            "Epoch 2/10\n",
            "782/782 [==============================] - 25s 33ms/step - loss: 0.6186 - accuracy: 0.6986 - val_loss: 0.6133 - val_accuracy: 0.7366\n",
            "Epoch 3/10\n",
            "782/782 [==============================] - 25s 32ms/step - loss: 0.5900 - accuracy: 0.7448 - val_loss: 0.5964 - val_accuracy: 0.7214\n",
            "Epoch 4/10\n",
            "782/782 [==============================] - 25s 32ms/step - loss: 0.5686 - accuracy: 0.7669 - val_loss: 0.5825 - val_accuracy: 0.7350\n",
            "Epoch 5/10\n",
            "782/782 [==============================] - 25s 33ms/step - loss: 0.5496 - accuracy: 0.7796 - val_loss: 0.5699 - val_accuracy: 0.7404\n",
            "Epoch 6/10\n",
            "782/782 [==============================] - 25s 32ms/step - loss: 0.5332 - accuracy: 0.7902 - val_loss: 0.5545 - val_accuracy: 0.7556\n",
            "Epoch 7/10\n",
            "782/782 [==============================] - 26s 33ms/step - loss: 0.5186 - accuracy: 0.7982 - val_loss: 0.5487 - val_accuracy: 0.7537\n",
            "Epoch 8/10\n",
            "782/782 [==============================] - 26s 34ms/step - loss: 0.5052 - accuracy: 0.8065 - val_loss: 0.5365 - val_accuracy: 0.7655\n",
            "Epoch 9/10\n",
            "782/782 [==============================] - 26s 33ms/step - loss: 0.4933 - accuracy: 0.8114 - val_loss: 0.5269 - val_accuracy: 0.7694\n",
            "Epoch 10/10\n",
            "782/782 [==============================] - 25s 32ms/step - loss: 0.4820 - accuracy: 0.8162 - val_loss: 0.5188 - val_accuracy: 0.7741\n"
          ]
        },
        {
          "output_type": "execute_result",
          "data": {
            "text/plain": [
              "<keras.callbacks.History at 0x7f0691a99850>"
            ]
          },
          "metadata": {},
          "execution_count": 10
        }
      ],
      "source": [
        "model_rnn.fit(x_train, y_train,\n",
        "          batch_size=batch_size,\n",
        "          epochs=10,\n",
        "          validation_data=(x_test, y_test))"
      ]
    },
    {
      "cell_type": "code",
      "execution_count": 11,
      "metadata": {
        "colab": {
          "base_uri": "https://localhost:8080/"
        },
        "id": "kBWyAb9y8OSN",
        "outputId": "bc668977-929d-46b2-bb53-0298050485e2"
      },
      "outputs": [
        {
          "output_type": "stream",
          "name": "stdout",
          "text": [
            "782/782 [==============================] - 3s 4ms/step - loss: 0.5188 - accuracy: 0.7741\n",
            "Test score: 0.5188170075416565\n",
            "Test accuracy: 0.7740799784660339\n"
          ]
        }
      ],
      "source": [
        "score, acc = model_rnn.evaluate(x_test, y_test,\n",
        "                            batch_size=batch_size)\n",
        "print('Test score:', score)\n",
        "print('Test accuracy:', acc)"
      ]
    },
    {
      "cell_type": "markdown",
      "metadata": {
        "id": "G9qPEji28OSN"
      },
      "source": [
        "## Exercise\n",
        "\n",
        "In this exercise, we will illustrate:\n",
        "- Preparing the data to use sequences of length 80 rather than length 30.  Does it improve the performance?\n",
        "- Trying different values of the \"max_features\".  Does this  improve the performance?\n",
        "- Trying smaller and larger sizes of the RNN hidden dimension.  How does it affect the model performance?  How does it affect the run time?"
      ]
    },
    {
      "cell_type": "code",
      "execution_count": 12,
      "metadata": {
        "id": "PIYXVAxR8OSO"
      },
      "outputs": [],
      "source": [
        "max_features = 20000  # This is used in loading the data, picks the most common (max_features) words\n",
        "maxlen = 80  # maximum length of a sequence - truncate after this\n",
        "\n",
        "(x_train, y_train), (x_test, y_test) = imdb.load_data(num_words=max_features)\n",
        "\n",
        "x_train = sequence.pad_sequences(x_train, maxlen=maxlen)\n",
        "x_test = sequence.pad_sequences(x_test, maxlen=maxlen)"
      ]
    },
    {
      "cell_type": "code",
      "execution_count": 13,
      "metadata": {
        "id": "gxk_Psxa8OSO"
      },
      "outputs": [],
      "source": [
        "rnn_hidden_dim = 5\n",
        "word_embedding_dim = 50\n",
        "model_rnn = Sequential()\n",
        "model_rnn.add(Embedding(max_features, word_embedding_dim))  #This layer takes each integer in the sequence\n",
        "model_rnn.add(SimpleRNN(rnn_hidden_dim,\n",
        "                    kernel_initializer=initializers.RandomNormal(stddev=0.001),\n",
        "                    recurrent_initializer=initializers.Identity(gain=1.0),\n",
        "                    activation='relu',\n",
        "                    input_shape=x_train.shape[1:]))\n",
        "\n",
        "model_rnn.add(Dense(1, activation='sigmoid'))"
      ]
    },
    {
      "cell_type": "code",
      "execution_count": 14,
      "metadata": {
        "colab": {
          "base_uri": "https://localhost:8080/"
        },
        "id": "WRLa_Cax8OSP",
        "outputId": "30094fae-4558-4bb1-b3bb-017b6913ee83"
      },
      "outputs": [
        {
          "output_type": "stream",
          "name": "stderr",
          "text": [
            "/usr/local/lib/python3.7/dist-packages/keras/optimizer_v2/rmsprop.py:130: UserWarning: The `lr` argument is deprecated, use `learning_rate` instead.\n",
            "  super(RMSprop, self).__init__(name, **kwargs)\n"
          ]
        }
      ],
      "source": [
        "rmsprop = keras.optimizers.RMSprop(lr = .0001)\n",
        "\n",
        "model_rnn.compile(loss='binary_crossentropy',\n",
        "              optimizer=rmsprop,\n",
        "              metrics=['accuracy'])"
      ]
    },
    {
      "cell_type": "code",
      "execution_count": 15,
      "metadata": {
        "colab": {
          "base_uri": "https://localhost:8080/"
        },
        "id": "Riy7karo8OSP",
        "outputId": "c8c577cb-fc2e-48a6-eeb0-5ef96012bfce"
      },
      "outputs": [
        {
          "output_type": "stream",
          "name": "stdout",
          "text": [
            "Epoch 1/10\n",
            "782/782 [==============================] - 63s 79ms/step - loss: 0.5989 - accuracy: 0.6669 - val_loss: 0.5112 - val_accuracy: 0.7454\n",
            "Epoch 2/10\n",
            "782/782 [==============================] - 61s 78ms/step - loss: 0.4418 - accuracy: 0.7961 - val_loss: 0.4446 - val_accuracy: 0.7900\n",
            "Epoch 3/10\n",
            "782/782 [==============================] - 61s 78ms/step - loss: 0.3731 - accuracy: 0.8374 - val_loss: 0.3992 - val_accuracy: 0.8198\n",
            "Epoch 4/10\n",
            "782/782 [==============================] - 62s 79ms/step - loss: 0.3322 - accuracy: 0.8595 - val_loss: 0.3921 - val_accuracy: 0.8242\n",
            "Epoch 5/10\n",
            "782/782 [==============================] - 61s 78ms/step - loss: 0.3056 - accuracy: 0.8734 - val_loss: 0.3720 - val_accuracy: 0.8327\n",
            "Epoch 6/10\n",
            "782/782 [==============================] - 66s 84ms/step - loss: 0.2868 - accuracy: 0.8808 - val_loss: 0.3648 - val_accuracy: 0.8385\n",
            "Epoch 7/10\n",
            "782/782 [==============================] - 60s 77ms/step - loss: 0.2729 - accuracy: 0.8870 - val_loss: 0.3704 - val_accuracy: 0.8362\n",
            "Epoch 8/10\n",
            "782/782 [==============================] - 66s 85ms/step - loss: 0.2624 - accuracy: 0.8938 - val_loss: 0.3648 - val_accuracy: 0.8397\n",
            "Epoch 9/10\n",
            "782/782 [==============================] - 61s 77ms/step - loss: 0.2530 - accuracy: 0.8981 - val_loss: 0.3693 - val_accuracy: 0.8400\n",
            "Epoch 10/10\n",
            "782/782 [==============================] - 61s 78ms/step - loss: 0.2453 - accuracy: 0.9008 - val_loss: 0.3634 - val_accuracy: 0.8419\n"
          ]
        },
        {
          "output_type": "execute_result",
          "data": {
            "text/plain": [
              "<keras.callbacks.History at 0x7f0689683150>"
            ]
          },
          "metadata": {},
          "execution_count": 15
        }
      ],
      "source": [
        "model_rnn.fit(x_train, y_train,\n",
        "          batch_size=batch_size,\n",
        "          epochs=10,\n",
        "          validation_data=(x_test, y_test))"
      ]
    },
    {
      "cell_type": "code",
      "execution_count": 16,
      "metadata": {
        "id": "nFMYEiOR8OSP"
      },
      "outputs": [],
      "source": [
        "max_features = 5000  # This is used in loading the data, picks the most common (max_features) words\n",
        "maxlen = 80  # maximum length of a sequence - truncate after this\n",
        "\n",
        "(x_train, y_train), (x_test, y_test) = imdb.load_data(num_words=max_features)\n",
        "\n",
        "x_train = sequence.pad_sequences(x_train, maxlen=maxlen)\n",
        "x_test = sequence.pad_sequences(x_test, maxlen=maxlen)"
      ]
    },
    {
      "cell_type": "code",
      "execution_count": 17,
      "metadata": {
        "id": "uohnFYJz8OSQ"
      },
      "outputs": [],
      "source": [
        "rnn_hidden_dim = 5\n",
        "word_embedding_dim = 20\n",
        "model_rnn = Sequential()\n",
        "model_rnn.add(Embedding(max_features, word_embedding_dim))  #This layer takes each integer in the sequence\n",
        "model_rnn.add(SimpleRNN(rnn_hidden_dim,\n",
        "                    kernel_initializer=initializers.RandomNormal(stddev=0.001),\n",
        "                    recurrent_initializer=initializers.Identity(gain=1.0),\n",
        "                    activation='relu',\n",
        "                    input_shape=x_train.shape[1:]))\n",
        "\n",
        "model_rnn.add(Dense(1, activation='sigmoid'))"
      ]
    },
    {
      "cell_type": "code",
      "execution_count": 18,
      "metadata": {
        "colab": {
          "base_uri": "https://localhost:8080/"
        },
        "id": "NC8fLvAl8OSQ",
        "outputId": "1d7cb46e-4cdb-4d42-b907-d08f71542fa3"
      },
      "outputs": [
        {
          "output_type": "stream",
          "name": "stderr",
          "text": [
            "/usr/local/lib/python3.7/dist-packages/keras/optimizer_v2/rmsprop.py:130: UserWarning: The `lr` argument is deprecated, use `learning_rate` instead.\n",
            "  super(RMSprop, self).__init__(name, **kwargs)\n"
          ]
        }
      ],
      "source": [
        "rmsprop = keras.optimizers.RMSprop(lr = .0001)\n",
        "\n",
        "model_rnn.compile(loss='binary_crossentropy',\n",
        "              optimizer=rmsprop,\n",
        "              metrics=['accuracy'])"
      ]
    },
    {
      "cell_type": "code",
      "execution_count": 19,
      "metadata": {
        "colab": {
          "base_uri": "https://localhost:8080/"
        },
        "id": "KebDfiNB8OSR",
        "outputId": "6361d251-885d-404a-a0fc-3cef68e474d4"
      },
      "outputs": [
        {
          "output_type": "stream",
          "name": "stdout",
          "text": [
            "Epoch 1/10\n",
            "782/782 [==============================] - 65s 83ms/step - loss: 0.6470 - accuracy: 0.6217 - val_loss: 0.5749 - val_accuracy: 0.7127\n",
            "Epoch 2/10\n",
            "782/782 [==============================] - 64s 82ms/step - loss: 0.5245 - accuracy: 0.7442 - val_loss: 0.5209 - val_accuracy: 0.7418\n",
            "Epoch 3/10\n",
            "782/782 [==============================] - 64s 82ms/step - loss: 0.4714 - accuracy: 0.7777 - val_loss: 0.4864 - val_accuracy: 0.7606\n",
            "Epoch 4/10\n",
            "782/782 [==============================] - 65s 83ms/step - loss: 0.4373 - accuracy: 0.7990 - val_loss: 0.4660 - val_accuracy: 0.7762\n",
            "Epoch 5/10\n",
            "782/782 [==============================] - 65s 83ms/step - loss: 0.4084 - accuracy: 0.8174 - val_loss: 0.4388 - val_accuracy: 0.7956\n",
            "Epoch 6/10\n",
            "782/782 [==============================] - 65s 83ms/step - loss: 0.3833 - accuracy: 0.8333 - val_loss: 0.4499 - val_accuracy: 0.7939\n",
            "Epoch 7/10\n",
            "782/782 [==============================] - 65s 83ms/step - loss: 0.3653 - accuracy: 0.8412 - val_loss: 0.4144 - val_accuracy: 0.8072\n",
            "Epoch 8/10\n",
            "782/782 [==============================] - 64s 82ms/step - loss: 0.3528 - accuracy: 0.8496 - val_loss: 0.4020 - val_accuracy: 0.8162\n",
            "Epoch 9/10\n",
            "782/782 [==============================] - 65s 83ms/step - loss: 0.3422 - accuracy: 0.8543 - val_loss: 0.4007 - val_accuracy: 0.8168\n",
            "Epoch 10/10\n",
            "782/782 [==============================] - 65s 84ms/step - loss: 0.3334 - accuracy: 0.8591 - val_loss: 0.3895 - val_accuracy: 0.8240\n"
          ]
        },
        {
          "output_type": "execute_result",
          "data": {
            "text/plain": [
              "<keras.callbacks.History at 0x7f06902b0610>"
            ]
          },
          "metadata": {},
          "execution_count": 19
        }
      ],
      "source": [
        "model_rnn.fit(x_train, y_train,\n",
        "          batch_size=batch_size,\n",
        "          epochs=10,\n",
        "          validation_data=(x_test, y_test))"
      ]
    },
    {
      "cell_type": "code",
      "execution_count": 20,
      "metadata": {
        "colab": {
          "base_uri": "https://localhost:8080/"
        },
        "id": "q_zVIgS58OSR",
        "outputId": "1067e0f9-e7c8-4e83-9af1-7b37f8907375"
      },
      "outputs": [
        {
          "output_type": "stream",
          "name": "stdout",
          "text": [
            "Epoch 1/10\n",
            "782/782 [==============================] - 65s 83ms/step - loss: 0.3257 - accuracy: 0.8618 - val_loss: 0.3849 - val_accuracy: 0.8269\n",
            "Epoch 2/10\n",
            "782/782 [==============================] - 65s 83ms/step - loss: 0.3185 - accuracy: 0.8646 - val_loss: 0.3802 - val_accuracy: 0.8295\n",
            "Epoch 3/10\n",
            "782/782 [==============================] - 65s 83ms/step - loss: 0.3126 - accuracy: 0.8673 - val_loss: 0.3753 - val_accuracy: 0.8310\n",
            "Epoch 4/10\n",
            "782/782 [==============================] - 65s 83ms/step - loss: 0.3076 - accuracy: 0.8708 - val_loss: 0.3724 - val_accuracy: 0.8315\n",
            "Epoch 5/10\n",
            "782/782 [==============================] - 65s 83ms/step - loss: 0.3024 - accuracy: 0.8724 - val_loss: 0.3724 - val_accuracy: 0.8321\n",
            "Epoch 6/10\n",
            "782/782 [==============================] - 69s 89ms/step - loss: 0.2990 - accuracy: 0.8744 - val_loss: 0.3752 - val_accuracy: 0.8318\n",
            "Epoch 7/10\n",
            "782/782 [==============================] - 65s 83ms/step - loss: 0.2952 - accuracy: 0.8764 - val_loss: 0.3718 - val_accuracy: 0.8344\n",
            "Epoch 8/10\n",
            "782/782 [==============================] - 65s 83ms/step - loss: 0.2915 - accuracy: 0.8780 - val_loss: 0.3711 - val_accuracy: 0.8359\n",
            "Epoch 9/10\n",
            "782/782 [==============================] - 65s 83ms/step - loss: 0.2887 - accuracy: 0.8793 - val_loss: 0.3707 - val_accuracy: 0.8370\n",
            "Epoch 10/10\n",
            "782/782 [==============================] - 65s 83ms/step - loss: 0.2861 - accuracy: 0.8797 - val_loss: 0.3715 - val_accuracy: 0.8373\n"
          ]
        },
        {
          "output_type": "execute_result",
          "data": {
            "text/plain": [
              "<keras.callbacks.History at 0x7f068b5e8b10>"
            ]
          },
          "metadata": {},
          "execution_count": 20
        }
      ],
      "source": [
        "# Out of curiosity, run for 10 more epochs\n",
        "model_rnn.fit(x_train, y_train,\n",
        "          batch_size=batch_size,\n",
        "          epochs=10,\n",
        "          validation_data=(x_test, y_test))"
      ]
    },
    {
      "cell_type": "markdown",
      "metadata": {
        "id": "kAf8P8dq8OSS"
      },
      "source": [
        "---\n",
        "### Machine Learning Foundation (C) 2020 IBM Corporation"
      ]
    }
  ],
  "metadata": {
    "kernelspec": {
      "display_name": "Python 3",
      "language": "python",
      "name": "python3"
    },
    "language_info": {
      "codemirror_mode": {
        "name": "ipython",
        "version": 3
      },
      "file_extension": ".py",
      "mimetype": "text/x-python",
      "name": "python",
      "nbconvert_exporter": "python",
      "pygments_lexer": "ipython3",
      "version": "3.7.4"
    },
    "colab": {
      "name": "05g_DEMO_RNN.ipynb",
      "provenance": [],
      "include_colab_link": true
    },
    "accelerator": "GPU"
  },
  "nbformat": 4,
  "nbformat_minor": 0
}