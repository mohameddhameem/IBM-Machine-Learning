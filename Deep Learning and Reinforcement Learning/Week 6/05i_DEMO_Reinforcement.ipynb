{
  "cells": [
    {
      "cell_type": "markdown",
      "metadata": {
        "id": "view-in-github",
        "colab_type": "text"
      },
      "source": [
        "<a href=\"https://colab.research.google.com/github/mohameddhameem/IBM-Machine-Learning/blob/master/Deep%20Learning%20and%20Reinforcement%20Learning/Week%206/05i_DEMO_Reinforcement.ipynb\" target=\"_parent\"><img src=\"https://colab.research.google.com/assets/colab-badge.svg\" alt=\"Open In Colab\"/></a>"
      ]
    },
    {
      "cell_type": "markdown",
      "metadata": {
        "run_control": {
          "marked": true
        },
        "id": "24PqCIryoB8O"
      },
      "source": [
        "# Machine Learning Foundation\n",
        "\n",
        "## Course 5, Part i: Reinforcement Learning DEMO"
      ]
    },
    {
      "cell_type": "markdown",
      "metadata": {
        "id": "crDmqHxVoB8R"
      },
      "source": [
        "## Reinforcement Learning Example\n",
        "\n",
        "In this example from Reinforcement Learning, the task is to use tools from Machine Learning to predict how an agent should act. We will then use those predictions to drive the behavior of the agent. Ideally, our intelligent agent should get a much better score than a random agent.\n",
        "\n",
        "## Key concepts:\n",
        "\n",
        "- **Observation**: These are the states of the game. It describes where the agent currently is.\n",
        "- **Action**: These are the moves that the agent makes.\n",
        "- **Episode**: One full game played from beginning (`env.reset()`) to end (when `done == True`).\n",
        "- **Step**: Part of a game that includes one action. The game transitions from one observation to the next.\n",
        "\n",
        "## Setup\n",
        "\n",
        "This exaple uses the Python library [OpenAI Gym](https://gym.openai.com/docs/).\n",
        "\n",
        "If you want to install everything (gym can run atari games.) follow [these instructions](https://github.com/openai/gym#installing-everything).\n",
        "\n",
        "Now we can build an environment using OpenAI. "
      ]
    },
    {
      "cell_type": "code",
      "execution_count": 14,
      "metadata": {
        "id": "Bo4Dop10oB8S"
      },
      "outputs": [],
      "source": [
        "import gym\n",
        "import pandas\n",
        "import numpy as np\n",
        "from tqdm import tqdm"
      ]
    },
    {
      "cell_type": "markdown",
      "metadata": {
        "id": "rYvFzWnFoB8T"
      },
      "source": [
        "# The first part of the game uses the environment FrozenLake-V0\n",
        "\n",
        "This is a small world with 16 tiles. \n",
        "\n",
        "    SFFF\n",
        "    FHFH\n",
        "    FFFH\n",
        "    HFFG\n",
        "\n",
        "The game starts at the S tile. The object of the game is to get to the goal (G) without landing in a hole (H)."
      ]
    },
    {
      "cell_type": "code",
      "execution_count": 2,
      "metadata": {
        "id": "pI9eOQqqoB8T",
        "outputId": "2a2ffb64-6f6f-416a-881a-26437438cb88",
        "colab": {
          "base_uri": "https://localhost:8080/"
        }
      },
      "outputs": [
        {
          "output_type": "stream",
          "name": "stdout",
          "text": [
            "0\n"
          ]
        }
      ],
      "source": [
        "# Build an environment with gym.make()\n",
        "env = gym.make('FrozenLake-v0') # build a fresh environment\n",
        "\n",
        "# Start a new game with env.reset()\n",
        "current_observation = env.reset() # this starts a new \"episode\" and returns the initial observation\n",
        "\n",
        "#the current observation is just the current location\n",
        "print(current_observation) # observations are just a number"
      ]
    },
    {
      "cell_type": "code",
      "execution_count": 3,
      "metadata": {
        "id": "M0XWftosoB8U",
        "outputId": "caaf90a7-381e-48c8-dcdf-e2c53ea9f00b",
        "colab": {
          "base_uri": "https://localhost:8080/"
        }
      },
      "outputs": [
        {
          "output_type": "stream",
          "name": "stdout",
          "text": [
            "\n",
            "\u001b[41mS\u001b[0mFFF\n",
            "FHFH\n",
            "FFFH\n",
            "HFFG\n"
          ]
        }
      ],
      "source": [
        "# we can print the environment if we want to look at it\n",
        "env.render() "
      ]
    },
    {
      "cell_type": "code",
      "execution_count": 4,
      "metadata": {
        "id": "FWV-s3zpoB8V",
        "outputId": "577365e3-21cd-419a-af1f-7b8a93ff0a3d",
        "colab": {
          "base_uri": "https://localhost:8080/"
        }
      },
      "outputs": [
        {
          "output_type": "stream",
          "name": "stdout",
          "text": [
            "our action space: Discrete(4)\n",
            "our new action: 3\n"
          ]
        }
      ],
      "source": [
        "# the action space for this environment includes four discrete actions\n",
        "\n",
        "print(f\"our action space: {env.action_space}\")\n",
        "\n",
        "new_action = env.action_space.sample() # we can randomly sample actions\n",
        "\n",
        "print(f\"our new action: {new_action}\") # run this cell a few times to get an idea of the action space\n",
        "# what does it look like?"
      ]
    },
    {
      "cell_type": "code",
      "execution_count": 5,
      "metadata": {
        "id": "JYmH646zoB8V",
        "outputId": "f559760c-a27c-476f-8057-8fbec399ac19",
        "colab": {
          "base_uri": "https://localhost:8080/"
        }
      },
      "outputs": [
        {
          "output_type": "stream",
          "name": "stdout",
          "text": [
            "observation: 1, reward: 0.0, done: False, info: {'prob': 0.3333333333333333}\n",
            "  (Right)\n",
            "S\u001b[41mF\u001b[0mFF\n",
            "FHFH\n",
            "FFFH\n",
            "HFFG\n"
          ]
        }
      ],
      "source": [
        "# now we act! do this with the step function\n",
        "\n",
        "new_action = env.action_space.sample()\n",
        "\n",
        "observation, reward, done, info = env.step(new_action)\n",
        "\n",
        "# here's a look at what we get back\n",
        "print(f\"observation: {observation}, reward: {reward}, done: {done}, info: {info}\")\n",
        "\n",
        "env.render() "
      ]
    },
    {
      "cell_type": "code",
      "execution_count": 6,
      "metadata": {
        "id": "0Ip8wOdPoB8W",
        "outputId": "f21010b8-0318-44d1-b0b6-2593b82b0fc6",
        "colab": {
          "base_uri": "https://localhost:8080/"
        }
      },
      "outputs": [
        {
          "output_type": "stream",
          "name": "stdout",
          "text": [
            "observation: 0, reward: 0.0, done: False, info: {'prob': 0.3333333333333333}\n",
            "  (Left)\n",
            "\u001b[41mS\u001b[0mFFF\n",
            "FHFH\n",
            "FFFH\n",
            "HFFG\n",
            "observation: 0, reward: 0.0, done: False, info: {'prob': 0.3333333333333333}\n",
            "  (Down)\n",
            "\u001b[41mS\u001b[0mFFF\n",
            "FHFH\n",
            "FFFH\n",
            "HFFG\n",
            "observation: 0, reward: 0.0, done: False, info: {'prob': 0.3333333333333333}\n",
            "  (Left)\n",
            "\u001b[41mS\u001b[0mFFF\n",
            "FHFH\n",
            "FFFH\n",
            "HFFG\n",
            "observation: 4, reward: 0.0, done: False, info: {'prob': 0.3333333333333333}\n",
            "  (Right)\n",
            "SFFF\n",
            "\u001b[41mF\u001b[0mHFH\n",
            "FFFH\n",
            "HFFG\n",
            "observation: 0, reward: 0.0, done: False, info: {'prob': 0.3333333333333333}\n",
            "  (Right)\n",
            "\u001b[41mS\u001b[0mFFF\n",
            "FHFH\n",
            "FFFH\n",
            "HFFG\n"
          ]
        }
      ],
      "source": [
        "# we can put this process into a for-loop and see how the game progresses\n",
        "\n",
        "current_observation = env.reset() # start a new game\n",
        "\n",
        "for i in range(5): # run 5 moves\n",
        "\n",
        "    new_action = env.action_space.sample() # same a new action\n",
        "\n",
        "    observation, reward, done, info = env.step(new_action) # step through the action and get the outputs\n",
        "\n",
        "    # here's a look at what we get back\n",
        "    print(f\"observation: {observation}, reward: {reward}, done: {done}, info: {info}\")\n",
        "\n",
        "    env.render() "
      ]
    },
    {
      "cell_type": "markdown",
      "metadata": {
        "id": "2L63w8hsoB8W"
      },
      "source": [
        "Now we can guess what each of the outputs mean. \n",
        "\n",
        "**Observation** refers to the number of the tile. The tiles appear to be numbered\n",
        "\n",
        "    0 1 2 3\n",
        "    4 5 ...\n",
        "    \n",
        "**Reward** refers to the outcome of the game. We get 1 if we win, zero otherwise.\n",
        "\n",
        "**Done** tells us if the game is still going. It goes to true when we win or fall into a hole.\n",
        "\n",
        "**info** gives extra info about the world. Here, it's probabilities. Can you guess what this means here? Perhaps the world is a bit noisy."
      ]
    },
    {
      "cell_type": "code",
      "execution_count": 7,
      "metadata": {
        "id": "FLBvIUiroB8X",
        "outputId": "81f54b3c-7630-4f3f-a98e-fcc973edc409",
        "colab": {
          "base_uri": "https://localhost:8080/"
        }
      },
      "outputs": [
        {
          "output_type": "stream",
          "name": "stdout",
          "text": [
            "action:1 observation: 1, reward: 0.0, done: False, info: {'prob': 0.3333333333333333}\n",
            "action:3 observation: 1, reward: 0.0, done: False, info: {'prob': 0.3333333333333333}\n",
            "action:0 observation: 5, reward: 0.0, done: True, info: {'prob': 0.3333333333333333}\n"
          ]
        }
      ],
      "source": [
        "# Here's how to simulate an entire episode\n",
        "# We're going to stop rendering it every time to save space\n",
        "# try running this a few. Does it ever win?\n",
        "\n",
        "current_observation = env.reset()\n",
        "done = False\n",
        "\n",
        "while not done:    \n",
        "    new_action = env.action_space.sample()\n",
        "    new_observation, reward, done, info = env.step(new_action)\n",
        "    print(f\"action:{new_action} observation: {new_observation}, reward: {reward}, done: {done}, info: {info}\")"
      ]
    },
    {
      "cell_type": "markdown",
      "metadata": {
        "id": "PzzuRTXWoB8X"
      },
      "source": [
        "Things to think about:\n",
        "- What things do you notice about how the environment and actions work?\n",
        "- What do you think the actions mean?\n",
        "- When the agent performs the same action from the same place (same observation), does the same outcome happen every time?"
      ]
    },
    {
      "cell_type": "markdown",
      "metadata": {
        "id": "b4eNJUsuoB8X"
      },
      "source": [
        "The environment has some squares that always end the game (`H` in the render), some that don't (`F`), and one that is presumably the reward, if you get to it.\n",
        "\n",
        "The actions seem like up, down, left right. But they also seem stochastic. There seems to be a 1/3 chance of going into 3 different squares with each action. "
      ]
    },
    {
      "cell_type": "markdown",
      "metadata": {
        "id": "mjXEhFAqoB8Y"
      },
      "source": [
        "# Part 1: Gather data\n",
        "\n",
        "We want to build an intelligent actor but first we have to gather data on which actions are useful.\n",
        "\n",
        "Use the above code as reference. Run a *random* agent through 1,000 or more episodes and collect data on each step.\n",
        "\n",
        "I recommend you store this data in a pandas dataframe. Each row should be a step. Your features should include the following features or similar \n",
        "\n",
        "- `observation` the observation at the beginning of the step (before acting!)\n",
        "- `action` the action randomly sampled\n",
        "- `current_reward` the reward received after the action was performed\n",
        "\n",
        "After you generate this data, it is recommended that you compute a column (e.g. `total_reward` that is the total reward for the entire episode).\n",
        "\n",
        "At the end of the data gathering, you should be able to use pandas (or similar) to calculate the average total reward *per episode* of the random agent. The average score should be 1-2%, meaning that the agent very rarely wins.\n",
        "\n",
        "\n",
        "## Hints\n",
        "\n",
        "- `initial_observation = env.reset()` starts a new episode and returns the initial observation.\n",
        "- `new_observation, reward, done, info = env.step(new_action)` executes one action and returns the following observation. You may look at the documentation for the step method if you are curious about what it does. \n",
        "- `done != True` until the game is finished.\n",
        "- we are trying to maximize the reward *per episode*. Our first game gives 0 reward unless the agent travels to the goal.\n",
        "- `env.action_space.n` gives the number of possible actions in the environment. `env.action_space.sample()` allows the agent to randomly sample an action.\n",
        "- `env.observation_space.n` gives the number of possible states in the environment. "
      ]
    },
    {
      "cell_type": "code",
      "execution_count": 8,
      "metadata": {
        "id": "M4woSvdKoB8Y"
      },
      "outputs": [],
      "source": [
        "env = gym.make('FrozenLake-v0')\n",
        "\n",
        "num_episodes = 40000\n",
        "\n",
        "life_memory = []\n",
        "for i in range(num_episodes):\n",
        "    \n",
        "    # start a new episode and record all the memories\n",
        "    old_observation = env.reset()\n",
        "    done = False\n",
        "    tot_reward = 0\n",
        "    ep_memory = []\n",
        "    while not done:\n",
        "        new_action = env.action_space.sample()\n",
        "        observation, reward, done, info = env.step(new_action)\n",
        "        tot_reward += reward\n",
        "        \n",
        "        ep_memory.append({\n",
        "            \"observation\": old_observation,\n",
        "            \"action\": new_action,\n",
        "            \"reward\": reward,\n",
        "            \"episode\": i,\n",
        "        })\n",
        "        old_observation = observation\n",
        "        \n",
        "    # incorporate total reward\n",
        "    num_steps = len(ep_memory)\n",
        "    for i, ep_mem in enumerate(ep_memory):\n",
        "        ep_mem[\"tot_reward\"] = tot_reward\n",
        "        ep_mem[\"decay_reward\"] = i*tot_reward/num_steps\n",
        "        \n",
        "    life_memory.extend(ep_memory)\n",
        "    \n",
        "memory_df = pandas.DataFrame(life_memory)"
      ]
    },
    {
      "cell_type": "code",
      "execution_count": 9,
      "metadata": {
        "id": "ne3kCRnroB8Y",
        "outputId": "57196b4a-2c64-48ee-e31a-94e47f73e8f9",
        "colab": {
          "base_uri": "https://localhost:8080/",
          "height": 300
        }
      },
      "outputs": [
        {
          "output_type": "execute_result",
          "data": {
            "text/plain": [
              "         observation         action         reward        episode  \\\n",
              "count  306568.000000  306568.000000  306568.000000  306568.000000   \n",
              "mean        2.223781       1.499566       0.001853   19974.474446   \n",
              "std         2.994012       1.117677       0.043004   11493.026500   \n",
              "min         0.000000       0.000000       0.000000       0.000000   \n",
              "25%         0.000000       0.000000       0.000000   10084.750000   \n",
              "50%         1.000000       2.000000       0.000000   19895.000000   \n",
              "75%         4.000000       2.000000       0.000000   29911.000000   \n",
              "max        14.000000       3.000000       1.000000   39999.000000   \n",
              "\n",
              "          tot_reward   decay_reward  \n",
              "count  306568.000000  306568.000000  \n",
              "mean        0.025061       0.011604  \n",
              "std         0.156312       0.085557  \n",
              "min         0.000000       0.000000  \n",
              "25%         0.000000       0.000000  \n",
              "50%         0.000000       0.000000  \n",
              "75%         0.000000       0.000000  \n",
              "max         1.000000       0.981818  "
            ],
            "text/html": [
              "\n",
              "  <div id=\"df-d79ca5e1-ae61-4054-a814-691329785754\">\n",
              "    <div class=\"colab-df-container\">\n",
              "      <div>\n",
              "<style scoped>\n",
              "    .dataframe tbody tr th:only-of-type {\n",
              "        vertical-align: middle;\n",
              "    }\n",
              "\n",
              "    .dataframe tbody tr th {\n",
              "        vertical-align: top;\n",
              "    }\n",
              "\n",
              "    .dataframe thead th {\n",
              "        text-align: right;\n",
              "    }\n",
              "</style>\n",
              "<table border=\"1\" class=\"dataframe\">\n",
              "  <thead>\n",
              "    <tr style=\"text-align: right;\">\n",
              "      <th></th>\n",
              "      <th>observation</th>\n",
              "      <th>action</th>\n",
              "      <th>reward</th>\n",
              "      <th>episode</th>\n",
              "      <th>tot_reward</th>\n",
              "      <th>decay_reward</th>\n",
              "    </tr>\n",
              "  </thead>\n",
              "  <tbody>\n",
              "    <tr>\n",
              "      <th>count</th>\n",
              "      <td>306568.000000</td>\n",
              "      <td>306568.000000</td>\n",
              "      <td>306568.000000</td>\n",
              "      <td>306568.000000</td>\n",
              "      <td>306568.000000</td>\n",
              "      <td>306568.000000</td>\n",
              "    </tr>\n",
              "    <tr>\n",
              "      <th>mean</th>\n",
              "      <td>2.223781</td>\n",
              "      <td>1.499566</td>\n",
              "      <td>0.001853</td>\n",
              "      <td>19974.474446</td>\n",
              "      <td>0.025061</td>\n",
              "      <td>0.011604</td>\n",
              "    </tr>\n",
              "    <tr>\n",
              "      <th>std</th>\n",
              "      <td>2.994012</td>\n",
              "      <td>1.117677</td>\n",
              "      <td>0.043004</td>\n",
              "      <td>11493.026500</td>\n",
              "      <td>0.156312</td>\n",
              "      <td>0.085557</td>\n",
              "    </tr>\n",
              "    <tr>\n",
              "      <th>min</th>\n",
              "      <td>0.000000</td>\n",
              "      <td>0.000000</td>\n",
              "      <td>0.000000</td>\n",
              "      <td>0.000000</td>\n",
              "      <td>0.000000</td>\n",
              "      <td>0.000000</td>\n",
              "    </tr>\n",
              "    <tr>\n",
              "      <th>25%</th>\n",
              "      <td>0.000000</td>\n",
              "      <td>0.000000</td>\n",
              "      <td>0.000000</td>\n",
              "      <td>10084.750000</td>\n",
              "      <td>0.000000</td>\n",
              "      <td>0.000000</td>\n",
              "    </tr>\n",
              "    <tr>\n",
              "      <th>50%</th>\n",
              "      <td>1.000000</td>\n",
              "      <td>2.000000</td>\n",
              "      <td>0.000000</td>\n",
              "      <td>19895.000000</td>\n",
              "      <td>0.000000</td>\n",
              "      <td>0.000000</td>\n",
              "    </tr>\n",
              "    <tr>\n",
              "      <th>75%</th>\n",
              "      <td>4.000000</td>\n",
              "      <td>2.000000</td>\n",
              "      <td>0.000000</td>\n",
              "      <td>29911.000000</td>\n",
              "      <td>0.000000</td>\n",
              "      <td>0.000000</td>\n",
              "    </tr>\n",
              "    <tr>\n",
              "      <th>max</th>\n",
              "      <td>14.000000</td>\n",
              "      <td>3.000000</td>\n",
              "      <td>1.000000</td>\n",
              "      <td>39999.000000</td>\n",
              "      <td>1.000000</td>\n",
              "      <td>0.981818</td>\n",
              "    </tr>\n",
              "  </tbody>\n",
              "</table>\n",
              "</div>\n",
              "      <button class=\"colab-df-convert\" onclick=\"convertToInteractive('df-d79ca5e1-ae61-4054-a814-691329785754')\"\n",
              "              title=\"Convert this dataframe to an interactive table.\"\n",
              "              style=\"display:none;\">\n",
              "        \n",
              "  <svg xmlns=\"http://www.w3.org/2000/svg\" height=\"24px\"viewBox=\"0 0 24 24\"\n",
              "       width=\"24px\">\n",
              "    <path d=\"M0 0h24v24H0V0z\" fill=\"none\"/>\n",
              "    <path d=\"M18.56 5.44l.94 2.06.94-2.06 2.06-.94-2.06-.94-.94-2.06-.94 2.06-2.06.94zm-11 1L8.5 8.5l.94-2.06 2.06-.94-2.06-.94L8.5 2.5l-.94 2.06-2.06.94zm10 10l.94 2.06.94-2.06 2.06-.94-2.06-.94-.94-2.06-.94 2.06-2.06.94z\"/><path d=\"M17.41 7.96l-1.37-1.37c-.4-.4-.92-.59-1.43-.59-.52 0-1.04.2-1.43.59L10.3 9.45l-7.72 7.72c-.78.78-.78 2.05 0 2.83L4 21.41c.39.39.9.59 1.41.59.51 0 1.02-.2 1.41-.59l7.78-7.78 2.81-2.81c.8-.78.8-2.07 0-2.86zM5.41 20L4 18.59l7.72-7.72 1.47 1.35L5.41 20z\"/>\n",
              "  </svg>\n",
              "      </button>\n",
              "      \n",
              "  <style>\n",
              "    .colab-df-container {\n",
              "      display:flex;\n",
              "      flex-wrap:wrap;\n",
              "      gap: 12px;\n",
              "    }\n",
              "\n",
              "    .colab-df-convert {\n",
              "      background-color: #E8F0FE;\n",
              "      border: none;\n",
              "      border-radius: 50%;\n",
              "      cursor: pointer;\n",
              "      display: none;\n",
              "      fill: #1967D2;\n",
              "      height: 32px;\n",
              "      padding: 0 0 0 0;\n",
              "      width: 32px;\n",
              "    }\n",
              "\n",
              "    .colab-df-convert:hover {\n",
              "      background-color: #E2EBFA;\n",
              "      box-shadow: 0px 1px 2px rgba(60, 64, 67, 0.3), 0px 1px 3px 1px rgba(60, 64, 67, 0.15);\n",
              "      fill: #174EA6;\n",
              "    }\n",
              "\n",
              "    [theme=dark] .colab-df-convert {\n",
              "      background-color: #3B4455;\n",
              "      fill: #D2E3FC;\n",
              "    }\n",
              "\n",
              "    [theme=dark] .colab-df-convert:hover {\n",
              "      background-color: #434B5C;\n",
              "      box-shadow: 0px 1px 3px 1px rgba(0, 0, 0, 0.15);\n",
              "      filter: drop-shadow(0px 1px 2px rgba(0, 0, 0, 0.3));\n",
              "      fill: #FFFFFF;\n",
              "    }\n",
              "  </style>\n",
              "\n",
              "      <script>\n",
              "        const buttonEl =\n",
              "          document.querySelector('#df-d79ca5e1-ae61-4054-a814-691329785754 button.colab-df-convert');\n",
              "        buttonEl.style.display =\n",
              "          google.colab.kernel.accessAllowed ? 'block' : 'none';\n",
              "\n",
              "        async function convertToInteractive(key) {\n",
              "          const element = document.querySelector('#df-d79ca5e1-ae61-4054-a814-691329785754');\n",
              "          const dataTable =\n",
              "            await google.colab.kernel.invokeFunction('convertToInteractive',\n",
              "                                                     [key], {});\n",
              "          if (!dataTable) return;\n",
              "\n",
              "          const docLinkHtml = 'Like what you see? Visit the ' +\n",
              "            '<a target=\"_blank\" href=https://colab.research.google.com/notebooks/data_table.ipynb>data table notebook</a>'\n",
              "            + ' to learn more about interactive tables.';\n",
              "          element.innerHTML = '';\n",
              "          dataTable['output_type'] = 'display_data';\n",
              "          await google.colab.output.renderOutput(dataTable, element);\n",
              "          const docLink = document.createElement('div');\n",
              "          docLink.innerHTML = docLinkHtml;\n",
              "          element.appendChild(docLink);\n",
              "        }\n",
              "      </script>\n",
              "    </div>\n",
              "  </div>\n",
              "  "
            ]
          },
          "metadata": {},
          "execution_count": 9
        }
      ],
      "source": [
        "memory_df.describe()"
      ]
    },
    {
      "cell_type": "code",
      "execution_count": 10,
      "metadata": {
        "id": "39-40JJwoB8Z",
        "outputId": "be439348-42df-4f05-b3a5-250355b8ca22",
        "colab": {
          "base_uri": "https://localhost:8080/"
        }
      },
      "outputs": [
        {
          "output_type": "execute_result",
          "data": {
            "text/plain": [
              "(306568, 6)"
            ]
          },
          "metadata": {},
          "execution_count": 10
        }
      ],
      "source": [
        "memory_df.shape"
      ]
    },
    {
      "cell_type": "code",
      "execution_count": 11,
      "metadata": {
        "id": "IKk2osRkoB8Z",
        "outputId": "66e4a899-ec38-499d-fd97-abe57609d57e",
        "colab": {
          "base_uri": "https://localhost:8080/"
        }
      },
      "outputs": [
        {
          "output_type": "execute_result",
          "data": {
            "text/plain": [
              "0.0142"
            ]
          },
          "metadata": {},
          "execution_count": 11
        }
      ],
      "source": [
        "memory_df.groupby(\"episode\").reward.sum().mean()"
      ]
    },
    {
      "cell_type": "markdown",
      "metadata": {
        "id": "kFiGgfgWoB8Z"
      },
      "source": [
        "# Step 2: Predict\n",
        "\n",
        "Now that you have a bunch of data, put it into a format that you can model. The goal here is to guide the behavior of our agent. Our agent will be given an observation and need to decide between the possible actions given that observation and the prediction of the model. \n",
        "\n",
        "Remember, you're a data scientist! Be creative. \n",
        "\n",
        "It might be helpful to work backwards. Ultimately, you will write something like:\n",
        "\n",
        "```\n",
        "def convert_to_row(obs, act):\n",
        "    # expertly written code\n",
        "    return row_of_obs_act\n",
        "    \n",
        "rows = [convert_to_row(current_obs, act) for act in possible_actions]\n",
        "\n",
        "pred_outcome = model.predict(rows)\n",
        "```\n",
        "\n",
        "So, you will need to design a quantity that you can ask your model to predict for every possible action-observation pair. Think a bit about what this quantity should be. Should the model try to predict the immediate reward for each action? If so, how would it know where to go at the beginning of each episode when all moves give zero reward but when some moves bring it closer to the goal than others. "
      ]
    },
    {
      "cell_type": "code",
      "execution_count": 12,
      "metadata": {
        "id": "_lHkPIjPoB8Z",
        "outputId": "d4fd48f3-cb29-4579-a96e-97bc59ba9b66",
        "colab": {
          "base_uri": "https://localhost:8080/"
        }
      },
      "outputs": [
        {
          "output_type": "execute_result",
          "data": {
            "text/plain": [
              "ExtraTreesRegressor(n_estimators=50)"
            ]
          },
          "metadata": {},
          "execution_count": 12
        }
      ],
      "source": [
        "from sklearn.ensemble import RandomForestRegressor, ExtraTreesRegressor\n",
        "from sklearn.svm import SVR\n",
        "\n",
        "model = ExtraTreesRegressor(n_estimators=50)\n",
        "# model = SVR()\n",
        "y = 0.5*memory_df.reward + 0.1*memory_df.decay_reward + memory_df.tot_reward\n",
        "x = memory_df[[\"observation\", \"action\"]]\n",
        "model.fit(x, y)"
      ]
    },
    {
      "cell_type": "markdown",
      "metadata": {
        "id": "5d3yYLl9oB8a"
      },
      "source": [
        "# Step 3: Act\n",
        "\n",
        "Now that you have a model that predicts the desired behavior, let's act on it! Modify the code you used to gather data so that you replace the random decision with an intelligent one.\n",
        "\n",
        "We started out winning ~1.5% of the games with the random agent. How well can you do? You should be able to get your model to do at least 10x better (so 15%). Can you get ~50%?\n",
        "\n",
        "If you're having trouble, tune your model. Try different representations of the observation and action spaces. Try different models. "
      ]
    },
    {
      "cell_type": "code",
      "execution_count": 15,
      "metadata": {
        "id": "i3gXgUT4oB8a",
        "outputId": "97984b3f-d0ef-4634-e2c8-d2b57b467df4",
        "colab": {
          "base_uri": "https://localhost:8080/"
        }
      },
      "outputs": [
        {
          "output_type": "stream",
          "name": "stdout",
          "text": [
            "Model fit completed...\n"
          ]
        },
        {
          "output_type": "stream",
          "name": "stderr",
          "text": [
            "100%|██████████| 500/500 [02:29<00:00,  3.34it/s]\n"
          ]
        },
        {
          "output_type": "execute_result",
          "data": {
            "text/plain": [
              "0.508"
            ]
          },
          "metadata": {},
          "execution_count": 15
        }
      ],
      "source": [
        "model = RandomForestRegressor()\n",
        "y = 1*memory_df.reward + memory_df.tot_reward + .1*memory_df.decay_reward\n",
        "x = memory_df[[\"observation\", \"action\"]]\n",
        "x = x.to_numpy()\n",
        "model.fit(x, y)\n",
        "print(\"Model fit completed...\")\n",
        "num_episodes = 500\n",
        "random_per = 0\n",
        "\n",
        "life_memory = []\n",
        "for i in tqdm(range(num_episodes)):\n",
        "    # start a new episode and record all the memories\n",
        "    old_observation = env.reset()\n",
        "    done = False\n",
        "    tot_reward = 0\n",
        "    ep_memory = []\n",
        "    while not done:\n",
        "        if np.random.rand() < random_per:\n",
        "            new_action = env.action_space.sample()\n",
        "        else:\n",
        "            pred_in = [[old_observation,i] for i in range(4)]\n",
        "            new_action = np.argmax(model.predict(pred_in))\n",
        "        observation, reward, done, info = env.step(new_action)\n",
        "        tot_reward += reward\n",
        "        \n",
        "        ep_memory.append({\n",
        "            \"observation\": old_observation,\n",
        "            \"action\": new_action,\n",
        "            \"reward\": reward,\n",
        "            \"episode\": i,\n",
        "        })\n",
        "        old_observation = observation\n",
        "        \n",
        "    # incorporate total reward\n",
        "    for ep_mem in ep_memory:\n",
        "        ep_mem[\"tot_reward\"] = tot_reward\n",
        "        \n",
        "    life_memory.extend(ep_memory)\n",
        "    \n",
        "memory_df2 = pandas.DataFrame(life_memory)\n",
        "\n",
        "# rf.fit(memory_df[[\"observation\", \"action\"]], memory_df[\"comb_reward\"])\n",
        "\n",
        "# score\n",
        "# much better!\n",
        "memory_df2.groupby(\"episode\").reward.sum().mean()"
      ]
    },
    {
      "cell_type": "code",
      "execution_count": 16,
      "metadata": {
        "id": "QIT8VO6AoB8a"
      },
      "outputs": [],
      "source": [
        "y = .1*memory_df.reward + 1*memory_df.decay_reward + 1*memory_df.tot_reward"
      ]
    },
    {
      "cell_type": "markdown",
      "metadata": {
        "id": "eL3KMAzSoB8b"
      },
      "source": [
        "# Extension: Pole cart\n",
        "\n",
        "If time permits, try your hand at pole cart (`env = gym.make('CartPole-v0')`).\n",
        "\n",
        "Notice that the observation space is quite different. It's no longer discrete--instead we have 4 continuous values. You'll have to store these differently from how you did with Frozenlake.\n",
        "\n",
        "My random actor actually does surprisingly well (avg ~22). But my intelligent agent is able to score ~99. Can you beat me? "
      ]
    },
    {
      "cell_type": "markdown",
      "metadata": {
        "id": "niKokibQoB8b"
      },
      "source": [
        "# Pole cart"
      ]
    },
    {
      "cell_type": "code",
      "execution_count": 17,
      "metadata": {
        "id": "qvQXK-p7oB8b"
      },
      "outputs": [],
      "source": [
        "env = gym.make('CartPole-v0')"
      ]
    },
    {
      "cell_type": "code",
      "execution_count": 18,
      "metadata": {
        "id": "YU-Qpn0LoB8b",
        "outputId": "c931a34c-12b1-487a-b7f3-0bb736779f13",
        "colab": {
          "base_uri": "https://localhost:8080/"
        }
      },
      "outputs": [
        {
          "output_type": "stream",
          "name": "stderr",
          "text": [
            "100%|██████████| 1000/1000 [00:00<00:00, 2809.90it/s]\n"
          ]
        },
        {
          "output_type": "execute_result",
          "data": {
            "text/plain": [
              "22.391"
            ]
          },
          "metadata": {},
          "execution_count": 18
        }
      ],
      "source": [
        "# now we can build a toy world!\n",
        "num_episodes = 1000\n",
        "\n",
        "life_memory = []\n",
        "for i in tqdm(range(num_episodes)):\n",
        "    \n",
        "    # start a new episode and record all the memories\n",
        "    old_observation = env.reset()\n",
        "    done = False\n",
        "    tot_reward = 0\n",
        "    ep_memory = []\n",
        "    while not done:\n",
        "        new_action = env.action_space.sample()\n",
        "        observation, reward, done, info = env.step(new_action)\n",
        "        tot_reward += reward\n",
        "        \n",
        "        ep_memory.append({\n",
        "            \"obs0\": old_observation[0],\n",
        "            \"obs1\": old_observation[1],\n",
        "            \"obs2\": old_observation[2],\n",
        "            \"obs3\": old_observation[3],\n",
        "            \"action\": new_action,\n",
        "            \"reward\": reward,\n",
        "            \"episode\": i,\n",
        "        })\n",
        "        old_observation = observation\n",
        "        \n",
        "    # incorporate total reward\n",
        "    for ep_mem in ep_memory:\n",
        "        ep_mem[\"tot_reward\"] = tot_reward\n",
        "        \n",
        "    life_memory.extend(ep_memory)\n",
        "    \n",
        "memory_df = pandas.DataFrame(life_memory)\n",
        "\n",
        "memory_df.groupby(\"episode\").reward.sum().mean()"
      ]
    },
    {
      "cell_type": "code",
      "execution_count": 19,
      "metadata": {
        "id": "uZatCwk2oB8b",
        "outputId": "c5637b0f-18c7-4b59-e712-1e0c886ae0ab",
        "colab": {
          "base_uri": "https://localhost:8080/",
          "height": 300
        }
      },
      "outputs": [
        {
          "output_type": "execute_result",
          "data": {
            "text/plain": [
              "               obs0          obs1          obs2          obs3        action  \\\n",
              "count  22391.000000  22391.000000  22391.000000  22391.000000  22391.000000   \n",
              "mean       0.001356     -0.005356      0.001634      0.012532      0.498415   \n",
              "std        0.098823      0.527704      0.091414      0.776796      0.500009   \n",
              "min       -0.770615     -2.301722     -0.209299     -2.830750      0.000000   \n",
              "25%       -0.040073     -0.360994     -0.051972     -0.489601      0.000000   \n",
              "50%        0.000586     -0.002129      0.001848      0.007020      0.000000   \n",
              "75%        0.041361      0.350022      0.055883      0.528966      1.000000   \n",
              "max        1.360358      2.445054      0.209319      2.950021      1.000000   \n",
              "\n",
              "        reward       episode    tot_reward  \n",
              "count  22391.0  22391.000000  22391.000000  \n",
              "mean       1.0    488.030459     28.989013  \n",
              "std        0.0    290.427758     16.467155  \n",
              "min        1.0      0.000000      8.000000  \n",
              "25%        1.0    230.000000     17.000000  \n",
              "50%        1.0    487.000000     25.000000  \n",
              "75%        1.0    740.000000     36.000000  \n",
              "max        1.0    999.000000    112.000000  "
            ],
            "text/html": [
              "\n",
              "  <div id=\"df-ba017416-e98d-45e1-904c-d8310f7287d7\">\n",
              "    <div class=\"colab-df-container\">\n",
              "      <div>\n",
              "<style scoped>\n",
              "    .dataframe tbody tr th:only-of-type {\n",
              "        vertical-align: middle;\n",
              "    }\n",
              "\n",
              "    .dataframe tbody tr th {\n",
              "        vertical-align: top;\n",
              "    }\n",
              "\n",
              "    .dataframe thead th {\n",
              "        text-align: right;\n",
              "    }\n",
              "</style>\n",
              "<table border=\"1\" class=\"dataframe\">\n",
              "  <thead>\n",
              "    <tr style=\"text-align: right;\">\n",
              "      <th></th>\n",
              "      <th>obs0</th>\n",
              "      <th>obs1</th>\n",
              "      <th>obs2</th>\n",
              "      <th>obs3</th>\n",
              "      <th>action</th>\n",
              "      <th>reward</th>\n",
              "      <th>episode</th>\n",
              "      <th>tot_reward</th>\n",
              "    </tr>\n",
              "  </thead>\n",
              "  <tbody>\n",
              "    <tr>\n",
              "      <th>count</th>\n",
              "      <td>22391.000000</td>\n",
              "      <td>22391.000000</td>\n",
              "      <td>22391.000000</td>\n",
              "      <td>22391.000000</td>\n",
              "      <td>22391.000000</td>\n",
              "      <td>22391.0</td>\n",
              "      <td>22391.000000</td>\n",
              "      <td>22391.000000</td>\n",
              "    </tr>\n",
              "    <tr>\n",
              "      <th>mean</th>\n",
              "      <td>0.001356</td>\n",
              "      <td>-0.005356</td>\n",
              "      <td>0.001634</td>\n",
              "      <td>0.012532</td>\n",
              "      <td>0.498415</td>\n",
              "      <td>1.0</td>\n",
              "      <td>488.030459</td>\n",
              "      <td>28.989013</td>\n",
              "    </tr>\n",
              "    <tr>\n",
              "      <th>std</th>\n",
              "      <td>0.098823</td>\n",
              "      <td>0.527704</td>\n",
              "      <td>0.091414</td>\n",
              "      <td>0.776796</td>\n",
              "      <td>0.500009</td>\n",
              "      <td>0.0</td>\n",
              "      <td>290.427758</td>\n",
              "      <td>16.467155</td>\n",
              "    </tr>\n",
              "    <tr>\n",
              "      <th>min</th>\n",
              "      <td>-0.770615</td>\n",
              "      <td>-2.301722</td>\n",
              "      <td>-0.209299</td>\n",
              "      <td>-2.830750</td>\n",
              "      <td>0.000000</td>\n",
              "      <td>1.0</td>\n",
              "      <td>0.000000</td>\n",
              "      <td>8.000000</td>\n",
              "    </tr>\n",
              "    <tr>\n",
              "      <th>25%</th>\n",
              "      <td>-0.040073</td>\n",
              "      <td>-0.360994</td>\n",
              "      <td>-0.051972</td>\n",
              "      <td>-0.489601</td>\n",
              "      <td>0.000000</td>\n",
              "      <td>1.0</td>\n",
              "      <td>230.000000</td>\n",
              "      <td>17.000000</td>\n",
              "    </tr>\n",
              "    <tr>\n",
              "      <th>50%</th>\n",
              "      <td>0.000586</td>\n",
              "      <td>-0.002129</td>\n",
              "      <td>0.001848</td>\n",
              "      <td>0.007020</td>\n",
              "      <td>0.000000</td>\n",
              "      <td>1.0</td>\n",
              "      <td>487.000000</td>\n",
              "      <td>25.000000</td>\n",
              "    </tr>\n",
              "    <tr>\n",
              "      <th>75%</th>\n",
              "      <td>0.041361</td>\n",
              "      <td>0.350022</td>\n",
              "      <td>0.055883</td>\n",
              "      <td>0.528966</td>\n",
              "      <td>1.000000</td>\n",
              "      <td>1.0</td>\n",
              "      <td>740.000000</td>\n",
              "      <td>36.000000</td>\n",
              "    </tr>\n",
              "    <tr>\n",
              "      <th>max</th>\n",
              "      <td>1.360358</td>\n",
              "      <td>2.445054</td>\n",
              "      <td>0.209319</td>\n",
              "      <td>2.950021</td>\n",
              "      <td>1.000000</td>\n",
              "      <td>1.0</td>\n",
              "      <td>999.000000</td>\n",
              "      <td>112.000000</td>\n",
              "    </tr>\n",
              "  </tbody>\n",
              "</table>\n",
              "</div>\n",
              "      <button class=\"colab-df-convert\" onclick=\"convertToInteractive('df-ba017416-e98d-45e1-904c-d8310f7287d7')\"\n",
              "              title=\"Convert this dataframe to an interactive table.\"\n",
              "              style=\"display:none;\">\n",
              "        \n",
              "  <svg xmlns=\"http://www.w3.org/2000/svg\" height=\"24px\"viewBox=\"0 0 24 24\"\n",
              "       width=\"24px\">\n",
              "    <path d=\"M0 0h24v24H0V0z\" fill=\"none\"/>\n",
              "    <path d=\"M18.56 5.44l.94 2.06.94-2.06 2.06-.94-2.06-.94-.94-2.06-.94 2.06-2.06.94zm-11 1L8.5 8.5l.94-2.06 2.06-.94-2.06-.94L8.5 2.5l-.94 2.06-2.06.94zm10 10l.94 2.06.94-2.06 2.06-.94-2.06-.94-.94-2.06-.94 2.06-2.06.94z\"/><path d=\"M17.41 7.96l-1.37-1.37c-.4-.4-.92-.59-1.43-.59-.52 0-1.04.2-1.43.59L10.3 9.45l-7.72 7.72c-.78.78-.78 2.05 0 2.83L4 21.41c.39.39.9.59 1.41.59.51 0 1.02-.2 1.41-.59l7.78-7.78 2.81-2.81c.8-.78.8-2.07 0-2.86zM5.41 20L4 18.59l7.72-7.72 1.47 1.35L5.41 20z\"/>\n",
              "  </svg>\n",
              "      </button>\n",
              "      \n",
              "  <style>\n",
              "    .colab-df-container {\n",
              "      display:flex;\n",
              "      flex-wrap:wrap;\n",
              "      gap: 12px;\n",
              "    }\n",
              "\n",
              "    .colab-df-convert {\n",
              "      background-color: #E8F0FE;\n",
              "      border: none;\n",
              "      border-radius: 50%;\n",
              "      cursor: pointer;\n",
              "      display: none;\n",
              "      fill: #1967D2;\n",
              "      height: 32px;\n",
              "      padding: 0 0 0 0;\n",
              "      width: 32px;\n",
              "    }\n",
              "\n",
              "    .colab-df-convert:hover {\n",
              "      background-color: #E2EBFA;\n",
              "      box-shadow: 0px 1px 2px rgba(60, 64, 67, 0.3), 0px 1px 3px 1px rgba(60, 64, 67, 0.15);\n",
              "      fill: #174EA6;\n",
              "    }\n",
              "\n",
              "    [theme=dark] .colab-df-convert {\n",
              "      background-color: #3B4455;\n",
              "      fill: #D2E3FC;\n",
              "    }\n",
              "\n",
              "    [theme=dark] .colab-df-convert:hover {\n",
              "      background-color: #434B5C;\n",
              "      box-shadow: 0px 1px 3px 1px rgba(0, 0, 0, 0.15);\n",
              "      filter: drop-shadow(0px 1px 2px rgba(0, 0, 0, 0.3));\n",
              "      fill: #FFFFFF;\n",
              "    }\n",
              "  </style>\n",
              "\n",
              "      <script>\n",
              "        const buttonEl =\n",
              "          document.querySelector('#df-ba017416-e98d-45e1-904c-d8310f7287d7 button.colab-df-convert');\n",
              "        buttonEl.style.display =\n",
              "          google.colab.kernel.accessAllowed ? 'block' : 'none';\n",
              "\n",
              "        async function convertToInteractive(key) {\n",
              "          const element = document.querySelector('#df-ba017416-e98d-45e1-904c-d8310f7287d7');\n",
              "          const dataTable =\n",
              "            await google.colab.kernel.invokeFunction('convertToInteractive',\n",
              "                                                     [key], {});\n",
              "          if (!dataTable) return;\n",
              "\n",
              "          const docLinkHtml = 'Like what you see? Visit the ' +\n",
              "            '<a target=\"_blank\" href=https://colab.research.google.com/notebooks/data_table.ipynb>data table notebook</a>'\n",
              "            + ' to learn more about interactive tables.';\n",
              "          element.innerHTML = '';\n",
              "          dataTable['output_type'] = 'display_data';\n",
              "          await google.colab.output.renderOutput(dataTable, element);\n",
              "          const docLink = document.createElement('div');\n",
              "          docLink.innerHTML = docLinkHtml;\n",
              "          element.appendChild(docLink);\n",
              "        }\n",
              "      </script>\n",
              "    </div>\n",
              "  </div>\n",
              "  "
            ]
          },
          "metadata": {},
          "execution_count": 19
        }
      ],
      "source": [
        "memory_df.describe()"
      ]
    },
    {
      "cell_type": "code",
      "execution_count": 22,
      "metadata": {
        "id": "LLoYzkdLoB8b",
        "outputId": "a692a75d-03a3-4ecf-ab41-52bc8217c4ed",
        "colab": {
          "base_uri": "https://localhost:8080/"
        }
      },
      "outputs": [
        {
          "output_type": "execute_result",
          "data": {
            "text/plain": [
              "ExtraTreesRegressor(n_estimators=50)"
            ]
          },
          "metadata": {},
          "execution_count": 22
        }
      ],
      "source": [
        "from sklearn.ensemble import RandomForestRegressor, AdaBoostRegressor, ExtraTreesRegressor\n",
        "\n",
        "model = ExtraTreesRegressor(n_estimators=50)\n",
        "\n",
        "memory_df[\"comb_reward\"] = .5*memory_df.reward + memory_df.tot_reward\n",
        "model.fit(memory_df[[\"obs0\", \"obs1\", \"obs2\", \"obs3\", \"action\"]].to_numpy(), memory_df.comb_reward)"
      ]
    },
    {
      "cell_type": "code",
      "execution_count": 23,
      "metadata": {
        "id": "11UWId3CoB8c",
        "outputId": "a50f09c2-6b00-4bad-dcb4-a754509d742c",
        "colab": {
          "base_uri": "https://localhost:8080/"
        }
      },
      "outputs": [
        {
          "output_type": "stream",
          "name": "stderr",
          "text": [
            "100%|██████████| 1000/1000 [09:56<00:00,  1.68it/s]\n"
          ]
        },
        {
          "output_type": "execute_result",
          "data": {
            "text/plain": [
              "117.471"
            ]
          },
          "metadata": {},
          "execution_count": 23
        }
      ],
      "source": [
        "num_episodes = 1000\n",
        "random_per = 0\n",
        "\n",
        "life_memory = []\n",
        "for i in tqdm(range(num_episodes)):\n",
        "    \n",
        "    # start a new episode and record all the memories\n",
        "    old_observation = env.reset()\n",
        "    done = False\n",
        "    tot_reward = 0\n",
        "    ep_memory = []\n",
        "    while not done:\n",
        "        \n",
        "        \n",
        "        if np.random.rand() < random_per:\n",
        "            new_action = env.action_space.sample()\n",
        "        else:\n",
        "            pred_in = [list(old_observation)+[i] for i in range(2)]\n",
        "            new_action = np.argmax(model.predict(pred_in))\n",
        "        observation, reward, done, info = env.step(new_action)\n",
        "        tot_reward += reward\n",
        "        \n",
        "        ep_memory.append({\n",
        "            \"obs0\": old_observation[0],\n",
        "            \"obs1\": old_observation[1],\n",
        "            \"obs2\": old_observation[2],\n",
        "            \"obs3\": old_observation[3],\n",
        "            \"action\": new_action,\n",
        "            \"reward\": reward,\n",
        "            \"episode\": i,\n",
        "        })\n",
        "        old_observation = observation\n",
        "        \n",
        "    # incorporate total reward\n",
        "    for ep_mem in ep_memory:\n",
        "        ep_mem[\"tot_reward\"] = tot_reward\n",
        "        \n",
        "    life_memory.extend(ep_memory)\n",
        "    \n",
        "memory_df2 = pandas.DataFrame(life_memory)\n",
        "memory_df2[\"comb_reward\"] = memory_df2.reward + memory_df2.tot_reward\n",
        "\n",
        "# score\n",
        "# much better!\n",
        "memory_df2.groupby(\"episode\").reward.sum().mean()"
      ]
    },
    {
      "cell_type": "markdown",
      "metadata": {
        "id": "lfa9Pge7oB8c"
      },
      "source": [
        "---\n",
        "### Machine Learning Foundation (C) 2020 IBM Corporation"
      ]
    }
  ],
  "metadata": {
    "interpreter": {
      "hash": "ec5c1df393950c85460aac6c5f0d47d5950fe7c815f51de48caa93a009ae0140"
    },
    "kernelspec": {
      "display_name": "Python 3.7.13 ('kaggle-nlp')",
      "language": "python",
      "name": "python3"
    },
    "language_info": {
      "codemirror_mode": {
        "name": "ipython",
        "version": 3
      },
      "file_extension": ".py",
      "mimetype": "text/x-python",
      "name": "python",
      "nbconvert_exporter": "python",
      "pygments_lexer": "ipython3",
      "version": "3.7.13"
    },
    "colab": {
      "name": "05i_DEMO_Reinforcement.ipynb",
      "provenance": [],
      "include_colab_link": true
    }
  },
  "nbformat": 4,
  "nbformat_minor": 0
}